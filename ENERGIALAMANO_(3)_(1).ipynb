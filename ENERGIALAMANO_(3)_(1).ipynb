{
  "nbformat": 4,
  "nbformat_minor": 0,
  "metadata": {
    "colab": {
      "provenance": [],
      "include_colab_link": true
    },
    "kernelspec": {
      "name": "python3",
      "display_name": "Python 3"
    },
    "language_info": {
      "name": "python"
    }
  },
  "cells": [
    {
      "cell_type": "markdown",
      "metadata": {
        "id": "view-in-github",
        "colab_type": "text"
      },
      "source": [
        "<a href=\"https://colab.research.google.com/github/Jiuby/EAFIT/blob/main/ENERGIALAMANO_(3)_(1).ipynb\" target=\"_parent\"><img src=\"https://colab.research.google.com/assets/colab-badge.svg\" alt=\"Open In Colab\"/></a>"
      ]
    },
    {
      "cell_type": "code",
      "execution_count": null,
      "metadata": {
        "id": "9JiP_cMC_tZX"
      },
      "outputs": [],
      "source": [
        "import pandas as pd\n"
      ]
    },
    {
      "cell_type": "code",
      "source": [
        "df = pd.read_csv(\"consumo_casa.csv\")"
      ],
      "metadata": {
        "id": "LVYThvzRCEHi"
      },
      "execution_count": null,
      "outputs": []
    },
    {
      "cell_type": "code",
      "source": [
        "\n",
        "df['fantasma'] = df['Medidor [W]'] - (df['Refrigerator'] + df['Clothes washer'] + df['Clothes Iron'] + df['Computer'] + df['Oven'] + df['Play'] + df['TV'] + df['Sound system'])\n",
        "df['Medidor Limpio [W]'] = df['Medidor [W]'] - df['fantasma']\n",
        "\n",
        "df = df.drop(['Medidor [W]', 'fantasma'], axis=1)\n",
        "\n",
        "\n",
        "df.to_csv('datoslimpios.csv', index=False)\n"
      ],
      "metadata": {
        "id": "yoqdrEq_JI0u",
        "outputId": "a4305dd7-b883-4b47-e92b-8546a63f2bd2",
        "colab": {
          "base_uri": "https://localhost:8080/",
          "height": 210
        }
      },
      "execution_count": null,
      "outputs": [
        {
          "output_type": "error",
          "ename": "NameError",
          "evalue": "name 'df' is not defined",
          "traceback": [
            "\u001b[0;31m---------------------------------------------------------------------------\u001b[0m",
            "\u001b[0;31mNameError\u001b[0m                                 Traceback (most recent call last)",
            "\u001b[0;32m<ipython-input-1-1a07fa96bc1f>\u001b[0m in \u001b[0;36m<cell line: 1>\u001b[0;34m()\u001b[0m\n\u001b[0;32m----> 1\u001b[0;31m \u001b[0mdf\u001b[0m\u001b[0;34m[\u001b[0m\u001b[0;34m'fantasma'\u001b[0m\u001b[0;34m]\u001b[0m \u001b[0;34m=\u001b[0m \u001b[0mdf\u001b[0m\u001b[0;34m[\u001b[0m\u001b[0;34m'Medidor [W]'\u001b[0m\u001b[0;34m]\u001b[0m \u001b[0;34m-\u001b[0m \u001b[0;34m(\u001b[0m\u001b[0mdf\u001b[0m\u001b[0;34m[\u001b[0m\u001b[0;34m'Refrigerator'\u001b[0m\u001b[0;34m]\u001b[0m \u001b[0;34m+\u001b[0m \u001b[0mdf\u001b[0m\u001b[0;34m[\u001b[0m\u001b[0;34m'Clothes washer'\u001b[0m\u001b[0;34m]\u001b[0m \u001b[0;34m+\u001b[0m \u001b[0mdf\u001b[0m\u001b[0;34m[\u001b[0m\u001b[0;34m'Clothes Iron'\u001b[0m\u001b[0;34m]\u001b[0m \u001b[0;34m+\u001b[0m \u001b[0mdf\u001b[0m\u001b[0;34m[\u001b[0m\u001b[0;34m'Computer'\u001b[0m\u001b[0;34m]\u001b[0m \u001b[0;34m+\u001b[0m \u001b[0mdf\u001b[0m\u001b[0;34m[\u001b[0m\u001b[0;34m'Oven'\u001b[0m\u001b[0;34m]\u001b[0m \u001b[0;34m+\u001b[0m \u001b[0mdf\u001b[0m\u001b[0;34m[\u001b[0m\u001b[0;34m'Play'\u001b[0m\u001b[0;34m]\u001b[0m \u001b[0;34m+\u001b[0m \u001b[0mdf\u001b[0m\u001b[0;34m[\u001b[0m\u001b[0;34m'TV'\u001b[0m\u001b[0;34m]\u001b[0m \u001b[0;34m+\u001b[0m \u001b[0mdf\u001b[0m\u001b[0;34m[\u001b[0m\u001b[0;34m'Sound system'\u001b[0m\u001b[0;34m]\u001b[0m\u001b[0;34m)\u001b[0m\u001b[0;34m\u001b[0m\u001b[0;34m\u001b[0m\u001b[0m\n\u001b[0m\u001b[1;32m      2\u001b[0m \u001b[0mdf\u001b[0m\u001b[0;34m[\u001b[0m\u001b[0;34m'Medidor Limpio [W]'\u001b[0m\u001b[0;34m]\u001b[0m \u001b[0;34m=\u001b[0m \u001b[0mdf\u001b[0m\u001b[0;34m[\u001b[0m\u001b[0;34m'Medidor [W]'\u001b[0m\u001b[0;34m]\u001b[0m \u001b[0;34m-\u001b[0m \u001b[0mdf\u001b[0m\u001b[0;34m[\u001b[0m\u001b[0;34m'fantasma'\u001b[0m\u001b[0;34m]\u001b[0m\u001b[0;34m\u001b[0m\u001b[0;34m\u001b[0m\u001b[0m\n\u001b[1;32m      3\u001b[0m \u001b[0;34m\u001b[0m\u001b[0m\n\u001b[1;32m      4\u001b[0m \u001b[0mdf\u001b[0m \u001b[0;34m=\u001b[0m \u001b[0mdf\u001b[0m\u001b[0;34m.\u001b[0m\u001b[0mdrop\u001b[0m\u001b[0;34m(\u001b[0m\u001b[0;34m[\u001b[0m\u001b[0;34m'Medidor [W]'\u001b[0m\u001b[0;34m,\u001b[0m \u001b[0;34m'fantasma'\u001b[0m\u001b[0;34m]\u001b[0m\u001b[0;34m,\u001b[0m \u001b[0maxis\u001b[0m\u001b[0;34m=\u001b[0m\u001b[0;36m1\u001b[0m\u001b[0;34m)\u001b[0m\u001b[0;34m\u001b[0m\u001b[0;34m\u001b[0m\u001b[0m\n\u001b[1;32m      5\u001b[0m \u001b[0;34m\u001b[0m\u001b[0m\n",
            "\u001b[0;31mNameError\u001b[0m: name 'df' is not defined"
          ]
        }
      ]
    },
    {
      "cell_type": "code",
      "source": [
        "df = pd.read_csv('datoslimpios.csv')\n",
        "\n",
        "df['coste total'] = df['Medidor Limpio [W]'] * 0.9\n",
        "df['Refrigerator'] = df['Refrigerator'] * 0.9\n",
        "df['Clothes washer'] = df['Clothes washer'] * 0.9\n",
        "df['Clothes Iron'] = df['Clothes Iron'] * 0.9\n",
        "df['Computer'] = df['Computer'] * 0.9\n",
        "df['Oven'] = df['Oven'] * 0.9\n",
        "df['Play'] = df['Play'] * 0.9\n",
        "df['TV'] = df['TV'] * 0.9\n",
        "df['Sound system'] = df['Sound system'] * 0.9\n",
        "\n",
        "\n",
        "df.to_csv('costos.csv', index=False)"
      ],
      "metadata": {
        "id": "zmBZaIAhKDMi"
      },
      "execution_count": null,
      "outputs": []
    },
    {
      "cell_type": "code",
      "source": [
        "import numpy as np"
      ],
      "metadata": {
        "id": "YlyrJWauM3J7"
      },
      "execution_count": null,
      "outputs": []
    },
    {
      "cell_type": "code",
      "source": [
        "df = pd.read_csv('costos.csv')\n",
        "\n",
        "mes = 43800\n",
        "\n",
        "df['group'] = np.arange(len(df)) // mes\n",
        "df['coste total'] = df.groupby('group')['coste total'].sum()\n",
        "df['Refrigerator'] = df.groupby('group')['Refrigerator'].sum()\n",
        "df['Clothes washer'] = df.groupby('group')['Clothes washer'].sum()\n",
        "df['Clothes Iron'] = df.groupby('group')['Clothes Iron'].sum()\n",
        "df['Computer'] = df.groupby('group')['Computer'].sum()\n",
        "df['Oven'] = df.groupby('group')['Oven'].sum()\n",
        "df['Play'] = df.groupby('group')['Play'].sum()\n",
        "df['TV'] = df.groupby('group')['TV'].sum()\n",
        "df['Sound system'] = df.groupby('group')['Sound system'].sum()\n",
        "\n",
        "df.to_csv('costestotal.csv', index=False)"
      ],
      "metadata": {
        "id": "DOda1XsdMgZf"
      },
      "execution_count": null,
      "outputs": []
    },
    {
      "cell_type": "code",
      "source": [
        "df = pd.read_csv('costos.csv')\n",
        "\n",
        "mes = 43800\n",
        "\n",
        "df['group'] = np.arange(len(df)) // mes\n",
        "df['coste total'] = df.groupby('group')['coste total'].sum()/mes\n",
        "df['Refrigerator'] = df.groupby('group')['Refrigerator'].sum()/mes\n",
        "df['Clothes washer'] = df.groupby('group')['Clothes washer'].sum()/mes\n",
        "df['Clothes Iron'] = df.groupby('group')['Clothes Iron'].sum()/mes\n",
        "df['Computer'] = df.groupby('group')['Computer'].sum()/mes\n",
        "df['Oven'] = df.groupby('group')['Oven'].sum()/mes\n",
        "df['Play'] = df.groupby('group')['Play'].sum()/mes\n",
        "df['TV'] = df.groupby('group')['TV'].sum()/mes\n",
        "df['Sound system'] = df.groupby('group')['Sound system'].sum()/mes\n",
        "\n",
        "df.to_csv('promedioxminuto.csv', index=False)"
      ],
      "metadata": {
        "id": "U6ZFzDdLM665"
      },
      "execution_count": null,
      "outputs": []
    },
    {
      "cell_type": "code",
      "source": [
        "!pip install statsmodels scikit-learn\n"
      ],
      "metadata": {
        "colab": {
          "base_uri": "https://localhost:8080/"
        },
        "id": "1GAQMPyiT42k",
        "outputId": "7b4b3d8f-8ff1-4686-fe23-9daa35ad07fa"
      },
      "execution_count": null,
      "outputs": [
        {
          "output_type": "stream",
          "name": "stdout",
          "text": [
            "Requirement already satisfied: statsmodels in /usr/local/lib/python3.10/dist-packages (0.14.1)\n",
            "Requirement already satisfied: scikit-learn in /usr/local/lib/python3.10/dist-packages (1.2.2)\n",
            "Requirement already satisfied: numpy<2,>=1.18 in /usr/local/lib/python3.10/dist-packages (from statsmodels) (1.25.2)\n",
            "Requirement already satisfied: scipy!=1.9.2,>=1.4 in /usr/local/lib/python3.10/dist-packages (from statsmodels) (1.11.4)\n",
            "Requirement already satisfied: pandas!=2.1.0,>=1.0 in /usr/local/lib/python3.10/dist-packages (from statsmodels) (2.0.3)\n",
            "Requirement already satisfied: patsy>=0.5.4 in /usr/local/lib/python3.10/dist-packages (from statsmodels) (0.5.6)\n",
            "Requirement already satisfied: packaging>=21.3 in /usr/local/lib/python3.10/dist-packages (from statsmodels) (24.0)\n",
            "Requirement already satisfied: joblib>=1.1.1 in /usr/local/lib/python3.10/dist-packages (from scikit-learn) (1.4.0)\n",
            "Requirement already satisfied: threadpoolctl>=2.0.0 in /usr/local/lib/python3.10/dist-packages (from scikit-learn) (3.4.0)\n",
            "Requirement already satisfied: python-dateutil>=2.8.2 in /usr/local/lib/python3.10/dist-packages (from pandas!=2.1.0,>=1.0->statsmodels) (2.8.2)\n",
            "Requirement already satisfied: pytz>=2020.1 in /usr/local/lib/python3.10/dist-packages (from pandas!=2.1.0,>=1.0->statsmodels) (2023.4)\n",
            "Requirement already satisfied: tzdata>=2022.1 in /usr/local/lib/python3.10/dist-packages (from pandas!=2.1.0,>=1.0->statsmodels) (2024.1)\n",
            "Requirement already satisfied: six in /usr/local/lib/python3.10/dist-packages (from patsy>=0.5.4->statsmodels) (1.16.0)\n"
          ]
        }
      ]
    },
    {
      "cell_type": "code",
      "source": [
        "from sklearn.model_selection import train_test_split\n",
        "from sklearn.linear_model import LinearRegression\n",
        "from sklearn.metrics import mean_squared_error"
      ],
      "metadata": {
        "id": "nnlvElxrWQ7W"
      },
      "execution_count": null,
      "outputs": []
    },
    {
      "cell_type": "code",
      "source": [
        "df = pd.read_csv('costos.csv')"
      ],
      "metadata": {
        "id": "-TZOqqZmWV8M"
      },
      "execution_count": null,
      "outputs": []
    },
    {
      "cell_type": "code",
      "source": [
        "X = df[['Refrigerator', 'Clothes washer', 'Clothes Iron', 'Computer', 'Oven', 'Play', 'TV', 'Sound system']]\n",
        "y = df['coste total']"
      ],
      "metadata": {
        "id": "X_9JQ_C7WXb7"
      },
      "execution_count": null,
      "outputs": []
    },
    {
      "cell_type": "code",
      "source": [
        "X_train, X_test, y_train, y_test = train_test_split(X, y, test_size=0.2, random_state=42)\n"
      ],
      "metadata": {
        "id": "wo-uHjq5YHQi"
      },
      "execution_count": null,
      "outputs": []
    },
    {
      "cell_type": "code",
      "source": [
        "model = LinearRegression()\n",
        "model.fit(X_train, y_train)"
      ],
      "metadata": {
        "colab": {
          "base_uri": "https://localhost:8080/",
          "height": 74
        },
        "id": "p-UD3O1VYJka",
        "outputId": "6c4a7980-5743-4b0b-d71b-099050aaf0af"
      },
      "execution_count": null,
      "outputs": [
        {
          "output_type": "execute_result",
          "data": {
            "text/plain": [
              "LinearRegression()"
            ],
            "text/html": [
              "<style>#sk-container-id-1 {color: black;background-color: white;}#sk-container-id-1 pre{padding: 0;}#sk-container-id-1 div.sk-toggleable {background-color: white;}#sk-container-id-1 label.sk-toggleable__label {cursor: pointer;display: block;width: 100%;margin-bottom: 0;padding: 0.3em;box-sizing: border-box;text-align: center;}#sk-container-id-1 label.sk-toggleable__label-arrow:before {content: \"▸\";float: left;margin-right: 0.25em;color: #696969;}#sk-container-id-1 label.sk-toggleable__label-arrow:hover:before {color: black;}#sk-container-id-1 div.sk-estimator:hover label.sk-toggleable__label-arrow:before {color: black;}#sk-container-id-1 div.sk-toggleable__content {max-height: 0;max-width: 0;overflow: hidden;text-align: left;background-color: #f0f8ff;}#sk-container-id-1 div.sk-toggleable__content pre {margin: 0.2em;color: black;border-radius: 0.25em;background-color: #f0f8ff;}#sk-container-id-1 input.sk-toggleable__control:checked~div.sk-toggleable__content {max-height: 200px;max-width: 100%;overflow: auto;}#sk-container-id-1 input.sk-toggleable__control:checked~label.sk-toggleable__label-arrow:before {content: \"▾\";}#sk-container-id-1 div.sk-estimator input.sk-toggleable__control:checked~label.sk-toggleable__label {background-color: #d4ebff;}#sk-container-id-1 div.sk-label input.sk-toggleable__control:checked~label.sk-toggleable__label {background-color: #d4ebff;}#sk-container-id-1 input.sk-hidden--visually {border: 0;clip: rect(1px 1px 1px 1px);clip: rect(1px, 1px, 1px, 1px);height: 1px;margin: -1px;overflow: hidden;padding: 0;position: absolute;width: 1px;}#sk-container-id-1 div.sk-estimator {font-family: monospace;background-color: #f0f8ff;border: 1px dotted black;border-radius: 0.25em;box-sizing: border-box;margin-bottom: 0.5em;}#sk-container-id-1 div.sk-estimator:hover {background-color: #d4ebff;}#sk-container-id-1 div.sk-parallel-item::after {content: \"\";width: 100%;border-bottom: 1px solid gray;flex-grow: 1;}#sk-container-id-1 div.sk-label:hover label.sk-toggleable__label {background-color: #d4ebff;}#sk-container-id-1 div.sk-serial::before {content: \"\";position: absolute;border-left: 1px solid gray;box-sizing: border-box;top: 0;bottom: 0;left: 50%;z-index: 0;}#sk-container-id-1 div.sk-serial {display: flex;flex-direction: column;align-items: center;background-color: white;padding-right: 0.2em;padding-left: 0.2em;position: relative;}#sk-container-id-1 div.sk-item {position: relative;z-index: 1;}#sk-container-id-1 div.sk-parallel {display: flex;align-items: stretch;justify-content: center;background-color: white;position: relative;}#sk-container-id-1 div.sk-item::before, #sk-container-id-1 div.sk-parallel-item::before {content: \"\";position: absolute;border-left: 1px solid gray;box-sizing: border-box;top: 0;bottom: 0;left: 50%;z-index: -1;}#sk-container-id-1 div.sk-parallel-item {display: flex;flex-direction: column;z-index: 1;position: relative;background-color: white;}#sk-container-id-1 div.sk-parallel-item:first-child::after {align-self: flex-end;width: 50%;}#sk-container-id-1 div.sk-parallel-item:last-child::after {align-self: flex-start;width: 50%;}#sk-container-id-1 div.sk-parallel-item:only-child::after {width: 0;}#sk-container-id-1 div.sk-dashed-wrapped {border: 1px dashed gray;margin: 0 0.4em 0.5em 0.4em;box-sizing: border-box;padding-bottom: 0.4em;background-color: white;}#sk-container-id-1 div.sk-label label {font-family: monospace;font-weight: bold;display: inline-block;line-height: 1.2em;}#sk-container-id-1 div.sk-label-container {text-align: center;}#sk-container-id-1 div.sk-container {/* jupyter's `normalize.less` sets `[hidden] { display: none; }` but bootstrap.min.css set `[hidden] { display: none !important; }` so we also need the `!important` here to be able to override the default hidden behavior on the sphinx rendered scikit-learn.org. See: https://github.com/scikit-learn/scikit-learn/issues/21755 */display: inline-block !important;position: relative;}#sk-container-id-1 div.sk-text-repr-fallback {display: none;}</style><div id=\"sk-container-id-1\" class=\"sk-top-container\"><div class=\"sk-text-repr-fallback\"><pre>LinearRegression()</pre><b>In a Jupyter environment, please rerun this cell to show the HTML representation or trust the notebook. <br />On GitHub, the HTML representation is unable to render, please try loading this page with nbviewer.org.</b></div><div class=\"sk-container\" hidden><div class=\"sk-item\"><div class=\"sk-estimator sk-toggleable\"><input class=\"sk-toggleable__control sk-hidden--visually\" id=\"sk-estimator-id-1\" type=\"checkbox\" checked><label for=\"sk-estimator-id-1\" class=\"sk-toggleable__label sk-toggleable__label-arrow\">LinearRegression</label><div class=\"sk-toggleable__content\"><pre>LinearRegression()</pre></div></div></div></div></div>"
            ]
          },
          "metadata": {},
          "execution_count": 13
        }
      ]
    },
    {
      "cell_type": "code",
      "source": [
        "y_pred = model.predict(X_test)"
      ],
      "metadata": {
        "id": "DCgNvQCqYL-w"
      },
      "execution_count": null,
      "outputs": []
    },
    {
      "cell_type": "code",
      "source": [
        "mse = mean_squared_error(y_test, y_pred)\n",
        "print(\"Error cuadrático medio:\", mse)"
      ],
      "metadata": {
        "colab": {
          "base_uri": "https://localhost:8080/"
        },
        "id": "_bHNW8wRYNwY",
        "outputId": "6a325b1c-f762-4142-b605-e2d173d1361e"
      },
      "execution_count": null,
      "outputs": [
        {
          "output_type": "stream",
          "name": "stdout",
          "text": [
            "Error cuadrático medio: 1.8021430418286546e-26\n"
          ]
        }
      ]
    },
    {
      "cell_type": "code",
      "source": [
        "df = pd.read_csv('df_futuro.csv')\n"
      ],
      "metadata": {
        "id": "F80oVitaTpKZ"
      },
      "execution_count": null,
      "outputs": []
    },
    {
      "cell_type": "code",
      "source": [
        "df['fantasma'] = df['Medidor [W]'] - (df['Refrigerator'] + df['Clothes washer'] + df['Clothes Iron'] + df['Computer'] + df['Oven'] + df['Play'] + df['TV'] + df['Sound system'])\n",
        "df['Medidor Limpio [W]'] = df['Medidor [W]'] - df['fantasma']\n",
        "\n",
        "df['coste total'] = df['Medidor Limpio [W]'] * 0.9\n",
        "\n",
        "df.to_csv('costestotal.csv', index=False)"
      ],
      "metadata": {
        "id": "8FLnIpH4W708"
      },
      "execution_count": null,
      "outputs": []
    },
    {
      "cell_type": "code",
      "source": [
        "df = pd.read_csv('costestotal.csv')\n"
      ],
      "metadata": {
        "id": "KQemQ0nKXcNW"
      },
      "execution_count": null,
      "outputs": []
    },
    {
      "cell_type": "code",
      "source": [
        "df = df.drop(['fantasma', 'Medidor Limpio [W]'], axis=1)\n",
        "\n",
        "df.to_csv('df_futuro2.csv', index=False)\n"
      ],
      "metadata": {
        "id": "QGWzSLWLUJpa"
      },
      "execution_count": null,
      "outputs": []
    },
    {
      "cell_type": "code",
      "source": [
        "df = pd.read_csv('df_futuro2.csv')\n"
      ],
      "metadata": {
        "id": "T2CFKWg1YjOq"
      },
      "execution_count": null,
      "outputs": []
    },
    {
      "cell_type": "code",
      "source": [
        "\n",
        "\n",
        "# Supongamos que tienes nuevos datos para el futuro en un DataFrame llamado df_futuro\n",
        "predicciones_futuras = model.predict(df[['Refrigerator', 'Clothes washer', 'Clothes Iron', 'Computer', 'Oven', 'Play', 'TV', 'Sound system']])\n"
      ],
      "metadata": {
        "id": "cSzf50eBYXHF"
      },
      "execution_count": null,
      "outputs": []
    },
    {
      "cell_type": "code",
      "source": [
        "df_predicciones_futuras = pd.DataFrame(predicciones_futuras, columns=['Predicciones'])\n"
      ],
      "metadata": {
        "id": "2Yjoij58e563"
      },
      "execution_count": null,
      "outputs": []
    },
    {
      "cell_type": "code",
      "source": [
        "df_predicciones_futuras = pd.DataFrame({'Predicciones futuras': predicciones_futuras})\n"
      ],
      "metadata": {
        "id": "NvWGugABgJqD"
      },
      "execution_count": null,
      "outputs": []
    },
    {
      "cell_type": "code",
      "source": [
        "df_predicciones_futuras.to_csv('predicciones_futuras.csv', index=False)\n"
      ],
      "metadata": {
        "id": "6llRYCx2gK2Z"
      },
      "execution_count": null,
      "outputs": []
    },
    {
      "cell_type": "code",
      "source": [
        "df = pd.read_csv('datoslimpios.csv')\n",
        "\n",
        "dispositivos = ['Refrigerator', 'Clothes washer', 'Clothes Iron', 'Computer', 'Oven', 'Play', 'TV', 'Sound system']\n",
        "\n",
        "for dispositivo in dispositivos:\n",
        "    estado_columna = dispositivo + '_status'\n",
        "    df[estado_columna] = df[dispositivo].apply(lambda x: 'Encendido' if x > 0 else 'Apagado')\n",
        "\n",
        "for dispositivo in dispositivos:\n",
        "    estado_columna = dispositivo + '_status'\n",
        "    print(df[[dispositivo, estado_columna]].drop_duplicates())\n",
        "df.drop(dispositivos, axis=1, inplace=True)\n",
        "df.to_csv('encendidoapagado.csv', index=False)\n"
      ],
      "metadata": {
        "id": "xBTmZbsMf2o1",
        "colab": {
          "base_uri": "https://localhost:8080/"
        },
        "outputId": "5e4f99c0-de80-4bd9-cc19-9d7d4974885f"
      },
      "execution_count": null,
      "outputs": [
        {
          "output_type": "stream",
          "name": "stdout",
          "text": [
            "        Refrigerator Refrigerator_status\n",
            "0              134.6           Encendido\n",
            "2              131.3           Encendido\n",
            "4                0.0             Apagado\n",
            "5                0.2           Encendido\n",
            "6                2.0           Encendido\n",
            "...              ...                 ...\n",
            "192325         200.4           Encendido\n",
            "192747         160.3           Encendido\n",
            "192912          84.8           Encendido\n",
            "193951         319.3           Encendido\n",
            "193997         200.8           Encendido\n",
            "\n",
            "[1322 rows x 2 columns]\n",
            "        Clothes washer Clothes washer_status\n",
            "0                  1.0             Encendido\n",
            "1                  0.2             Encendido\n",
            "2                  0.3             Encendido\n",
            "3                  0.0               Apagado\n",
            "4                  0.1             Encendido\n",
            "...                ...                   ...\n",
            "190794           220.7             Encendido\n",
            "190803           323.1             Encendido\n",
            "190805           215.9             Encendido\n",
            "190808           229.7             Encendido\n",
            "190809           267.3             Encendido\n",
            "\n",
            "[2020 rows x 2 columns]\n",
            "        Clothes Iron Clothes Iron_status\n",
            "0                0.0             Apagado\n",
            "3                0.5           Encendido\n",
            "5                1.0           Encendido\n",
            "6                0.2           Encendido\n",
            "7                1.1           Encendido\n",
            "...              ...                 ...\n",
            "189059         900.6           Encendido\n",
            "189063         855.5           Encendido\n",
            "189064         888.1           Encendido\n",
            "189067         902.7           Encendido\n",
            "189074         936.2           Encendido\n",
            "\n",
            "[873 rows x 2 columns]\n",
            "        Computer Computer_status\n",
            "0            0.3       Encendido\n",
            "3            0.1       Encendido\n",
            "4            0.0         Apagado\n",
            "15           0.5       Encendido\n",
            "28           1.0       Encendido\n",
            "...          ...             ...\n",
            "174147       8.9       Encendido\n",
            "174152       7.4       Encendido\n",
            "174159       6.9       Encendido\n",
            "174178       4.7       Encendido\n",
            "180814      59.7       Encendido\n",
            "\n",
            "[514 rows x 2 columns]\n",
            "          Oven Oven_status\n",
            "0          0.1   Encendido\n",
            "1          0.2   Encendido\n",
            "2          0.0     Apagado\n",
            "5          1.4   Encendido\n",
            "8          1.3   Encendido\n",
            "...        ...         ...\n",
            "186269  1439.3   Encendido\n",
            "189434    13.9   Encendido\n",
            "189611    67.6   Encendido\n",
            "190040    53.6   Encendido\n",
            "191839    43.2   Encendido\n",
            "\n",
            "[407 rows x 2 columns]\n",
            "        Play Play_status\n",
            "0        0.0     Apagado\n",
            "3        1.1   Encendido\n",
            "5        0.1   Encendido\n",
            "9        0.3   Encendido\n",
            "13       0.4   Encendido\n",
            "...      ...         ...\n",
            "145609  26.8   Encendido\n",
            "147588  13.9   Encendido\n",
            "154181   8.5   Encendido\n",
            "163508  25.4   Encendido\n",
            "172661  19.9   Encendido\n",
            "\n",
            "[101 rows x 2 columns]\n",
            "           TV  TV_status\n",
            "0         0.0    Apagado\n",
            "3         0.1  Encendido\n",
            "4         0.6  Encendido\n",
            "11        1.0  Encendido\n",
            "12        1.2  Encendido\n",
            "...       ...        ...\n",
            "184377   42.3  Encendido\n",
            "185561   11.1  Encendido\n",
            "187817  112.5  Encendido\n",
            "193626    4.8  Encendido\n",
            "193850   34.6  Encendido\n",
            "\n",
            "[316 rows x 2 columns]\n",
            "        Sound system Sound system_status\n",
            "0                0.1           Encendido\n",
            "2                1.0           Encendido\n",
            "6                0.0             Apagado\n",
            "11               0.3           Encendido\n",
            "12               1.3           Encendido\n",
            "...              ...                 ...\n",
            "165693          24.9           Encendido\n",
            "167063          26.7           Encendido\n",
            "172297          38.0           Encendido\n",
            "175597          17.9           Encendido\n",
            "179273          43.3           Encendido\n",
            "\n",
            "[135 rows x 2 columns]\n"
          ]
        }
      ]
    }
  ]
}